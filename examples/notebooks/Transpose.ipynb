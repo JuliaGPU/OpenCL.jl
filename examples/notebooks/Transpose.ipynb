{
 "cells": [
  {
   "cell_type": "markdown",
   "id": "28697bcd",
   "metadata": {},
   "source": [
    "# GPU Memory Bandwidth Transpose Examples"
   ]
  },
  {
   "cell_type": "code",
   "execution_count": 8,
   "id": "32c47a89",
   "metadata": {
    "collapsed": false,
    "jupyter": {
     "outputs_hidden": false
    }
   },
   "outputs": [],
   "source": [
    "using OpenCL\n",
    "using PyPlot\n",
    "using Printf"
   ]
  },
  {
   "cell_type": "code",
   "execution_count": 2,
   "id": "a74a7e43",
   "metadata": {
    "collapsed": false,
    "jupyter": {
     "outputs_hidden": false
    }
   },
   "outputs": [],
   "source": [
    "BLOCK_SIZE = 16;"
   ]
  },
  {
   "cell_type": "code",
   "execution_count": 3,
   "id": "066ad691",
   "metadata": {
    "collapsed": false,
    "jupyter": {
     "outputs_hidden": false
    }
   },
   "outputs": [],
   "source": [
    "naive_transpose = \"\n",
    "__kernel void transpose(__global *a_t,\n",
    "                        __global *a,\n",
    "                        unsigned a_width,\n",
    "                        unsigned a_height)\n",
    "{\n",
    "   int read_idx = get_global_id(0) + get_global_id(1) * a_width;\n",
    "   int write_idx = get_global_id(1) + get_global_id(0) * a_height;\n",
    "   a_t[write_idx] = a[read_idx];\n",
    "}\";"
   ]
  },
  {
   "cell_type": "code",
   "execution_count": 4,
   "id": "e23c9bab",
   "metadata": {
    "collapsed": false,
    "jupyter": {
     "outputs_hidden": false
    }
   },
   "outputs": [],
   "source": [
    "block_transpose = \"\n",
    "#define BLOCK_SIZE $(BLOCK_SIZE)\n",
    "__kernel __attribute__((reqd_work_group_size(BLOCK_SIZE, BLOCK_SIZE, 1)))\n",
    "void transpose(__global float *a_t, \n",
    "               __global float *a,\n",
    "               unsigned a_width,\n",
    "               unsigned a_height,\n",
    "               __local float *a_local)\n",
    "{\n",
    "  int base_idx_a   = get_group_id(0) * BLOCK_SIZE + get_group_id(1) * (BLOCK_SIZE * a_width);\n",
    "  int base_idx_a_t = get_group_id(1) * BLOCK_SIZE + get_group_id(0) * (BLOCK_SIZE * a_height);\n",
    "\n",
    "  int glob_idx_a   = base_idx_a + get_local_id(0) + a_width * get_local_id(1);\n",
    "  int glob_idx_a_t = base_idx_a_t + get_local_id(0) + a_height * get_local_id(1);\n",
    "\n",
    "  a_local[get_local_id(1) * BLOCK_SIZE + get_local_id(0)] = a[glob_idx_a];\n",
    "\n",
    "  barrier(CLK_LOCAL_MEM_FENCE);\n",
    "\n",
    "  a_t[glob_idx_a_t] = a_local[get_local_id(0) * BLOCK_SIZE + get_local_id(1)];\n",
    "}\";"
   ]
  },
  {
   "cell_type": "code",
   "execution_count": 13,
   "id": "d1169c7f",
   "metadata": {
    "collapsed": false,
    "jupyter": {
     "outputs_hidden": false
    }
   },
   "outputs": [
    {
     "data": {
      "text/plain": [
       "enqueue_naive_kernel (generic function with 1 method)"
      ]
     },
     "execution_count": 13,
     "metadata": {},
     "output_type": "execute_result"
    }
   ],
   "source": [
    "function enqueue_naive_kernel(k::cl.Kernel,\n",
    "                              dst::cl.Buffer{T},\n",
    "                              src::cl.Buffer{T},\n",
    "                              dims) where {T}\n",
    "    h, w = dims\n",
    "    @assert w % BLOCK_SIZE == 0\n",
    "    @assert h % BLOCK_SIZE == 0\n",
    "    cl.set_args!(k, dst, src, UInt32(h), UInt32(h))\n",
    "    cl.enqueue_kernel(k, (h, w), (BLOCK_SIZE, BLOCK_SIZE))\n",
    "end"
   ]
  },
  {
   "cell_type": "code",
   "execution_count": 14,
   "id": "05c9bfff",
   "metadata": {
    "collapsed": false,
    "jupyter": {
     "outputs_hidden": false
    }
   },
   "outputs": [
    {
     "data": {
      "text/plain": [
       "enqueue_block_kernel (generic function with 1 method)"
      ]
     },
     "execution_count": 14,
     "metadata": {},
     "output_type": "execute_result"
    }
   ],
   "source": [
    "function enqueue_block_kernel(k::cl.Kernel,\n",
    "                              dst::cl.Buffer{T},\n",
    "                              src::cl.Buffer{T},\n",
    "                              dims::Dims) where {T}\n",
    "    h, w = dims\n",
    "    @assert w % BLOCK_SIZE == 0\n",
    "    @assert h % BLOCK_SIZE == 0\n",
    "    lmem = cl.LocalMem(Float32, BLOCK_SIZE * (BLOCK_SIZE + 1))\n",
    "    cl.set_args!(k, dst, src, UInt32(h), UInt32(w), lmem)\n",
    "    cl.enqueue_kernel(k, (h, w), (BLOCK_SIZE, BLOCK_SIZE))\n",
    "end    "
   ]
  },
  {
   "cell_type": "code",
   "execution_count": 17,
   "id": "e14c9bf5",
   "metadata": {
    "collapsed": false,
    "jupyter": {
     "outputs_hidden": false
    }
   },
   "outputs": [
    {
     "data": {
      "text/plain": [
       "benchmark_transpose (generic function with 1 method)"
      ]
     },
     "execution_count": 17,
     "metadata": {},
     "output_type": "execute_result"
    }
   ],
   "source": [
    "function benchmark_transpose()    \n",
    "    @assert cl.device()[:local_mem_size] > 0\n",
    "    \n",
    "    prg  = cl.Program(source=naive_transpose) |> cl.build!\n",
    "    naive_kern = cl.Kernel(prg, \"transpose\")\n",
    "    \n",
    "    prg = cl.Program(source=block_transpose)  |> cl.build!\n",
    "    block_kernel = cl.Kernel(prg, \"transpose\")\n",
    "\n",
    "    # use a command queue with profiling enabled\n",
    "    cl.queue!(:profile) \n",
    "    \n",
    "    array_sizes = [Int((2^i) / 32) * 32 for i in 6:12]\n",
    "\n",
    "    mem_bandwiths = Float32[]\n",
    "    for (name, method, kern) in ((\"naive\", enqueue_naive_kernel, naive_kern), \n",
    "                                 (\"block\", enqueue_block_kernel, block_kernel))\n",
    "        for s in array_sizes  \n",
    "            src  = rand(Float32, (s, s))\n",
    "            a_buf   = cl.Buffer(Float32, length(src), (:r, :copy), hostbuf=src)\n",
    "            a_t_buf = cl.Buffer(Float32, length(src), :w)\n",
    "            \n",
    "            # warm up....\n",
    "            for i in 1:4\n",
    "                method(kern, a_t_buf, a_buf, size(src))\n",
    "            end\n",
    "            \n",
    "            # profile...\n",
    "            count  = 20\n",
    "            events = cl.Event[]\n",
    "            for i in 1:count\n",
    "                push!(events, method(kern, a_t_buf, a_buf, size(src)))\n",
    "            end\n",
    "            cl.wait(events[end])\n",
    "            \n",
    "            time = sum([evt[:profile_duration] for evt in events])\n",
    "            mem_bw = 2 * sizeof(src) * count / (time * 1e-9)\n",
    "            push!(mem_bandwiths, mem_bw)\n",
    "            \n",
    "            @printf(\"benchmarking %s, array size: %s^2, %.3f GB/s\\n\", name, s, mem_bw / 1e9)\n",
    "            \n",
    "        end\n",
    "    end\n",
    "    \n",
    "    # plot results, sleep a little to prevent overlap with show..\n",
    "    sleep(1)\n",
    "    clf()\n",
    "    n_sizes = length(array_sizes)\n",
    "    naive_bandwidths = mem_bandwiths[1:n_sizes]\n",
    "    block_bandwidths = mem_bandwiths[n_sizes+1:end]\n",
    "    plot(array_sizes, naive_bandwidths/1e9, \"o-\", label=\"naive\")\n",
    "    plot(array_sizes, block_bandwidths/1e9, \"o-\", label=\"block\")\n",
    "    title(\"Tanspose Tests for $(cl.device()[:name])\")\n",
    "    xlabel(\"Matrix width/height N\")\n",
    "    ylabel(\"Memory Bandwidth [GB/s]\")\n",
    "    legend(loc=\"best\")\n",
    "    grid(true)\n",
    "    show()\n",
    "end"
   ]
  },
  {
   "cell_type": "code",
   "execution_count": 19,
   "id": "883fd228",
   "metadata": {
    "collapsed": false,
    "jupyter": {
     "outputs_hidden": false
    }
   },
   "outputs": [
    {
     "name": "stdout",
     "output_type": "stream",
     "text": [
      "benchmarking naive, array size: 64^2, 4.355 GB/s\n",
      "benchmarking naive, array size: 128^2, 17.898 GB/s\n",
      "benchmarking naive, array size: 256^2, 82.518 GB/s\n",
      "benchmarking naive, array size: 512^2, 312.225 GB/s\n",
      "benchmarking naive, array size: 1024^2, 691.673 GB/s\n",
      "benchmarking naive, array size: 2048^2, 816.171 GB/s\n",
      "benchmarking naive, array size: 4096^2, 753.504 GB/s\n",
      "benchmarking block, array size: 64^2, 7.763 GB/s\n",
      "benchmarking block, array size: 128^2, 29.446 GB/s\n",
      "benchmarking block, array size: 256^2, 129.262 GB/s\n",
      "benchmarking block, array size: 512^2, 509.809 GB/s\n",
      "benchmarking block, array size: 1024^2, 1369.971 GB/s\n",
      "benchmarking block, array size: 2048^2, 2487.725 GB/s\n",
      "benchmarking block, array size: 4096^2, 833.063 GB/s\n"
     ]
    },
    {
     "data": {
      "image/png": "[encoded data removed]",
      "text/plain": [
       "Figure(PyObject <Figure size 640x480 with 1 Axes>)"
      ]
     },
     "metadata": {},
     "output_type": "display_data"
    }
   ],
   "source": [
    "benchmark_transpose()"
   ]
  }
 ],
 "metadata": {
  "kernelspec": {
   "display_name": "Julia 1.10.5",
   "language": "julia",
   "name": "julia-1.10"
  },
  "language": "Julia",
  "language_info": {
   "file_extension": ".jl",
   "mimetype": "application/julia",
   "name": "julia",
   "version": "1.10.5"
  }
 },
 "nbformat": 4,
 "nbformat_minor": 5
}
